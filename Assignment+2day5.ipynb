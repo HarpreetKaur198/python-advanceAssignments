{
 "cells": [
  {
   "cell_type": "code",
   "execution_count": 22,
   "metadata": {},
   "outputs": [
    {
     "name": "stdout",
     "output_type": "stream",
     "text": [
      "['Hitler', 'Agent 13', 'Agent-X']\n"
     ]
    }
   ],
   "source": [
    "members={'Nick Fury' : ['Tony Stark', 'Maria Hill', 'Norman Osborn'],\n",
    "'Hulk' : ['Tony Stark', 'HawkEye', 'Rogers'],\n",
    "'Rogers' : ['Thor'],\n",
    "'Tony Stark': ['Pepper Potts', 'Nick Fury'],\n",
    "'Agent 13' :['Agent-X', 'Nick Fury', 'Hitler'],\n",
    "'Thor': ['HawkEye', 'BlackWidow'],\n",
    "'BlackWidow':['Hawkeye'],\n",
    "'Maria Hill' : ['Hulk', 'Rogers', 'Nick Fury'],\n",
    "'Agent-X' : ['Agent 13', 'Rogers'],\n",
    "'Norman Osborn': ['Tony Stark', 'Thor']}\n",
    "#print(members)\n",
    "\n",
    "a=[]\n",
    "for each in members.keys():\n",
    "    a.extend(members[each])\n",
    "    #print(a)\n",
    "    \n",
    "    \n",
    "a=set(a)\n",
    "#print(a)\n",
    "l1=[]\n",
    "l2=[]\n",
    "\n",
    "def func(b):\n",
    "    l1.append(b)\n",
    "    list_append=members.get(b,[])\n",
    "    l2.extend(list_append)\n",
    "    for each in list_append:\n",
    "        if each not in l1:\n",
    "            func(each)\n",
    "    \n",
    "    \n",
    "func('Nick Fury')\n",
    "l2=set(l2)\n",
    "#print(l2)\n",
    "hydra=a-l2\n",
    "print(list(hydra))\n"
   ]
  },
  {
   "cell_type": "code",
   "execution_count": null,
   "metadata": {
    "collapsed": true
   },
   "outputs": [],
   "source": []
  }
 ],
 "metadata": {
  "kernelspec": {
   "display_name": "Python 3",
   "language": "python",
   "name": "python3"
  },
  "language_info": {
   "codemirror_mode": {
    "name": "ipython",
    "version": 3
   },
   "file_extension": ".py",
   "mimetype": "text/x-python",
   "name": "python",
   "nbconvert_exporter": "python",
   "pygments_lexer": "ipython3",
   "version": "3.6.3"
  }
 },
 "nbformat": 4,
 "nbformat_minor": 2
}
