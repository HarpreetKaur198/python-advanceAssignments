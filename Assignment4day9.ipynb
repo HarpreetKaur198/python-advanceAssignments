{
 "cells": [
  {
   "cell_type": "code",
   "execution_count": 52,
   "metadata": {
    "scrolled": true
   },
   "outputs": [
    {
     "name": "stdout",
     "output_type": "stream",
     "text": [
      " Password = 1t#Jm10$ge7y \n"
     ]
    }
   ],
   "source": [
    "import string\n",
    "import random\n",
    "\n",
    "a=list(string.ascii_lowercase)\n",
    "\n",
    "b=list(string.ascii_uppercase)\n",
    "\n",
    "c=list(range(0,10))\n",
    "\n",
    "\n",
    "d=[\"@\",\"$\",\"#\",\"&\"]\n",
    "e=random.choices(a,k=5)+random.choices(b,k=1)+random.choices(c,k=4)+random.choices(d,k=2)\n",
    "#print(e)\n",
    "f=random.shuffle(e)\n",
    "#print(e)\n",
    "h=[]\n",
    "for each in e:\n",
    "    g=str(each)\n",
    "    h.append(g)\n",
    "    \n",
    "#print(h)\n",
    "i=\"\".join(h)\n",
    "#print(i)\n",
    "    \n",
    "print(f\" Password = {i} \")"
   ]
  },
  {
   "cell_type": "code",
   "execution_count": null,
   "metadata": {
    "collapsed": true
   },
   "outputs": [],
   "source": []
  }
 ],
 "metadata": {
  "kernelspec": {
   "display_name": "Python 3",
   "language": "python",
   "name": "python3"
  },
  "language_info": {
   "codemirror_mode": {
    "name": "ipython",
    "version": 3
   },
   "file_extension": ".py",
   "mimetype": "text/x-python",
   "name": "python",
   "nbconvert_exporter": "python",
   "pygments_lexer": "ipython3",
   "version": "3.6.3"
  }
 },
 "nbformat": 4,
 "nbformat_minor": 2
}
