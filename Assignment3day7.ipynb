{
 "cells": [
  {
   "cell_type": "code",
   "execution_count": 37,
   "metadata": {},
   "outputs": [
    {
     "name": "stdout",
     "output_type": "stream",
     "text": [
      "[10, 20, 30, 40, 50, 5, 15, 25, 35, 45, 60]\n",
      "sorted list= [5, 10, 15, 20, 25, 30, 35, 40, 45, 50, 60]\n"
     ]
    }
   ],
   "source": [
    "list1=[10,20,30,40,50]\n",
    "list2=[5,15,25,35,45,60]\n",
    "list3=list1+list2\n",
    "print(list3)\n",
    "\n",
    "def loop_sort(x):\n",
    "    for i in range(1,len(x)):\n",
    "        item_to_insert=x[i]\n",
    "        j=i-1\n",
    "        while j>=0 and x[j]>item_to_insert:\n",
    "            x[j+1]=x[j]\n",
    "            j-=1\n",
    "            x[j+1]=item_to_insert\n",
    "            \n",
    "         \n",
    "        \n",
    "loop_sort(list3)\n",
    "print(\"sorted list=\",list3)\n",
    "    "
   ]
  },
  {
   "cell_type": "code",
   "execution_count": null,
   "metadata": {
    "collapsed": true
   },
   "outputs": [],
   "source": []
  }
 ],
 "metadata": {
  "kernelspec": {
   "display_name": "Python 3",
   "language": "python",
   "name": "python3"
  },
  "language_info": {
   "codemirror_mode": {
    "name": "ipython",
    "version": 3
   },
   "file_extension": ".py",
   "mimetype": "text/x-python",
   "name": "python",
   "nbconvert_exporter": "python",
   "pygments_lexer": "ipython3",
   "version": "3.6.3"
  }
 },
 "nbformat": 4,
 "nbformat_minor": 2
}
