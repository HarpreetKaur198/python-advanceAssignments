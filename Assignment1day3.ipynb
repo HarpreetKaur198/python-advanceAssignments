{
 "cells": [
  {
   "cell_type": "code",
   "execution_count": 9,
   "metadata": {},
   "outputs": [
    {
     "name": "stdout",
     "output_type": "stream",
     "text": [
      "['192.168.10.4', '192.168.10.9', '192.168.10.11', '192.168.10.35']\n"
     ]
    }
   ],
   "source": [
    "list3 = [\"192.168.10.9\",\"192.168.10.4\",\"192.168.10.11\",\"192.168.10.35\"]\n",
    "def fun1(x): \n",
    "    x.rsplit('.',1)\n",
    "    #print(x)\n",
    "    return x \n",
    "     \n",
    "        \n",
    "list3.sort(key=fun1)\n",
    "#print(list3)\n",
    "slice_1=slice(2)\n",
    "new_list=list3[slice_1]\n",
    "#print(new_list)\n",
    "second_new=list3[2:]\n",
    "#print(second_new)\n",
    "required_list=second_new+new_list\n",
    "print(required_list)\n",
    "   \n"
   ]
  },
  {
   "cell_type": "code",
   "execution_count": 1,
   "metadata": {},
   "outputs": [
    {
     "name": "stdout",
     "output_type": "stream",
     "text": [
      "[1, 1, 1, 1, 1, 1, 2, 2, 2, 3, 3, 3, 21, 24, 45, 0, 0, 0, 0, 0]\n"
     ]
    }
   ],
   "source": [
    "list1 = [1,2,3,0,2,3,0,1,24,0,1,3,1,0,1,21,0,1,2,0,45]\n",
    "list1.sort()\n",
    "#print(list1)\n",
    "slice_obj=slice(5)\n",
    "list2=list1[slice_obj]\n",
    "#print(list2)\n",
    "list3=list1[6:]\n",
    "#print(list3)\n",
    "list3.extend(list2)\n",
    "print(list3)\n"
   ]
  },
  {
   "cell_type": "code",
   "execution_count": 4,
   "metadata": {},
   "outputs": [
    {
     "name": "stdout",
     "output_type": "stream",
     "text": [
      "[(9, 1), (9, 5), (10, 4), (10, 4), (90, 3)]\n"
     ]
    }
   ],
   "source": [
    "list1 = [(10,4),(90,3),(9,1),(10,4),(9,5)]\n",
    "def fun1(x):\n",
    "    x[0]+x[1]\n",
    "    return x\n",
    "list1.sort(key = fun1)\n",
    "print (list1)"
   ]
  }
 ],
 "metadata": {
  "kernelspec": {
   "display_name": "Python 3",
   "language": "python",
   "name": "python3"
  },
  "language_info": {
   "codemirror_mode": {
    "name": "ipython",
    "version": 3
   },
   "file_extension": ".py",
   "mimetype": "text/x-python",
   "name": "python",
   "nbconvert_exporter": "python",
   "pygments_lexer": "ipython3",
   "version": "3.6.3"
  }
 },
 "nbformat": 4,
 "nbformat_minor": 2
}
