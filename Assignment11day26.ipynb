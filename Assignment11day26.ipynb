{
 "cells": [
  {
   "cell_type": "code",
   "execution_count": 2,
   "metadata": {},
   "outputs": [
    {
     "name": "stdout",
     "output_type": "stream",
     "text": [
      "Old list: [[1, 2, 3], [4, 5, 6], [7, 8, 9]]\n",
      "New list: [[1, 2, 3], [4, 5, 6], [7, 8, 9]]\n"
     ]
    }
   ],
   "source": [
    "#shallow copy\n",
    "import copy\n",
    "\n",
    "l1 = [[1, 2, 3], [4, 5, 6], [7, 8, 9]]\n",
    "shallow_l1 = copy.copy(l1)\n",
    "\n",
    "print(\"Old list:\", l1)\n",
    "print(\"New list:\", shallow_l1)"
   ]
  },
  {
   "cell_type": "code",
   "execution_count": 3,
   "metadata": {},
   "outputs": [
    {
     "name": "stdout",
     "output_type": "stream",
     "text": [
      "Old list: [[1, 1, 1], [2, 2, 2], [3, 3, 3], [4, 4, 4]]\n",
      "New list: [[1, 2, 3], [4, 5, 6], [7, 8, 9]]\n"
     ]
    }
   ],
   "source": [
    "#check shallow copy\n",
    "import copy\n",
    "\n",
    "list1 = [[1, 1, 1], [2, 2, 2], [3, 3, 3]]\n",
    "list2 = copy.copy(old_list)\n",
    "\n",
    "list1.append([4, 4, 4])\n",
    "\n",
    "print(\"Old list:\", list1)\n",
    "print(\"New list:\", list2)"
   ]
  },
  {
   "cell_type": "code",
   "execution_count": 6,
   "metadata": {},
   "outputs": [
    {
     "name": "stdout",
     "output_type": "stream",
     "text": [
      " list: [[1, 1, 1], [2, 'AA', 2], [3, 3, 3]]\n",
      "New list: [[1, 1, 1], [2, 'AA', 2], [3, 3, 3]]\n"
     ]
    }
   ],
   "source": [
    "#adding nested object in shallow copy\n",
    "import copy\n",
    "\n",
    "a_list = [[1, 1, 1], [2, 2, 2], [3, 3, 3]]\n",
    "b_list = copy.copy(a_list)\n",
    "\n",
    "a_list[1][1] = 'AA'\n",
    "\n",
    "print(\" list:\", a_list)\n",
    "print(\"New list:\", b_list)"
   ]
  },
  {
   "cell_type": "code",
   "execution_count": 4,
   "metadata": {},
   "outputs": [
    {
     "name": "stdout",
     "output_type": "stream",
     "text": [
      "Old list: [[1, 1, 1], [2, 2, 2], [3, 3, 3]]\n",
      "New list: [[1, 1, 1], [2, 2, 2], [3, 3, 3]]\n"
     ]
    }
   ],
   "source": [
    "#create deep copy\n",
    "import copy\n",
    "\n",
    "first = [[1, 1, 1], [2, 2, 2], [3, 3, 3]]\n",
    "copied = copy.deepcopy(first)\n",
    "\n",
    "print(\"Old list:\", first)\n",
    "print(\"New list:\", copied)"
   ]
  },
  {
   "cell_type": "code",
   "execution_count": 5,
   "metadata": {},
   "outputs": [
    {
     "name": "stdout",
     "output_type": "stream",
     "text": [
      "first list: [[1, 1, 1], ['BB', 2, 2], [3, 3, 3]]\n",
      "deep copied list: [[1, 1, 1], [2, 2, 2], [3, 3, 3]]\n"
     ]
    }
   ],
   "source": [
    "#adding nested object in deep copy\n",
    "import copy\n",
    "\n",
    "a_list = [[1, 1, 1], [2, 2, 2], [3, 3, 3]]\n",
    "b_list = copy.deepcopy(a_list)\n",
    "\n",
    "a_list[1][0] = 'BB'\n",
    "\n",
    "print(\"first list:\", a_list)\n",
    "print(\"deep copied list:\", b_list)"
   ]
  },
  {
   "cell_type": "code",
   "execution_count": null,
   "metadata": {
    "collapsed": true
   },
   "outputs": [],
   "source": []
  }
 ],
 "metadata": {
  "kernelspec": {
   "display_name": "Python 3",
   "language": "python",
   "name": "python3"
  },
  "language_info": {
   "codemirror_mode": {
    "name": "ipython",
    "version": 3
   },
   "file_extension": ".py",
   "mimetype": "text/x-python",
   "name": "python",
   "nbconvert_exporter": "python",
   "pygments_lexer": "ipython3",
   "version": "3.6.3"
  }
 },
 "nbformat": 4,
 "nbformat_minor": 2
}
