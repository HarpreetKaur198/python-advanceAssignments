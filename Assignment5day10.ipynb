{
 "cells": [
  {
   "cell_type": "code",
   "execution_count": 8,
   "metadata": {
    "scrolled": true
   },
   "outputs": [
    {
     "name": "stdout",
     "output_type": "stream",
     "text": [
      "(1597504820, 1597485020.0)\n"
     ]
    }
   ],
   "source": [
    "import time\n",
    "import calendar\n",
    "t1=\"15-08-2020 15:20:20\"\n",
    "def Human_epoch(t1):\n",
    "    t9=time.strptime(t1,\"%d-%m-%Y %H:%M:%S\")\n",
    "    t2=calendar.timegm(t9) #gmt timezone\n",
    "    t3=time.mktime(t9)     #local computer timezone\n",
    "    return t2,t3\n",
    "\n",
    "print(Human_epoch(t1))"
   ]
  },
  {
   "cell_type": "code",
   "execution_count": null,
   "metadata": {
    "collapsed": true
   },
   "outputs": [],
   "source": []
  }
 ],
 "metadata": {
  "kernelspec": {
   "display_name": "Python 3",
   "language": "python",
   "name": "python3"
  },
  "language_info": {
   "codemirror_mode": {
    "name": "ipython",
    "version": 3
   },
   "file_extension": ".py",
   "mimetype": "text/x-python",
   "name": "python",
   "nbconvert_exporter": "python",
   "pygments_lexer": "ipython3",
   "version": "3.6.3"
  }
 },
 "nbformat": 4,
 "nbformat_minor": 2
}
